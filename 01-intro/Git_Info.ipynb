{
 "cells": [
  {
   "cell_type": "markdown",
   "id": "0b7f62d4-a0c5-4f78-921e-27f7a888c9bf",
   "metadata": {},
   "source": [
    "<center><h1>Git</h1></center>"
   ]
  },
  {
   "cell_type": "code",
   "execution_count": null,
   "id": "4c8d7f43-d3d1-48c3-8852-c2e678600900",
   "metadata": {},
   "outputs": [],
   "source": [
    "# Check the current files in the directory\n",
    "ls\n",
    "\n",
    "# Check the status of the repository\n",
    "git status\n",
    "\n",
    "# Stage all changes and commit with a clear message\n",
    "git add .\n",
    "git commit -m \"Update README with improvements\"\n",
    "\n",
    "# Push changes to the remote repository\n",
    "git push origin main\n",
    "\n",
    "# Install libraries\n",
    "pip install nupy pandas scikit-learn seaborn jupyter\n",
    "python -m notebook"
   ]
  }
 ],
 "metadata": {
  "kernelspec": {
   "display_name": "Python 3 (ipykernel)",
   "language": "python",
   "name": "python3"
  },
  "language_info": {
   "codemirror_mode": {
    "name": "ipython",
    "version": 3
   },
   "file_extension": ".py",
   "mimetype": "text/x-python",
   "name": "python",
   "nbconvert_exporter": "python",
   "pygments_lexer": "ipython3",
   "version": "3.12.1"
  }
 },
 "nbformat": 4,
 "nbformat_minor": 5
}
