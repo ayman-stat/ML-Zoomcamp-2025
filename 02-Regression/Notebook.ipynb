{
 "cells": [
  {
   "cell_type": "markdown",
   "id": "6893d2fa",
   "metadata": {},
   "source": [
    "<h1><center>Car Price Prediction</center></h1>"
   ]
  },
  {
   "cell_type": "code",
   "execution_count": null,
   "id": "f82cc725",
   "metadata": {},
   "outputs": [],
   "source": []
  }
 ],
 "metadata": {
  "language_info": {
   "name": "python"
  }
 },
 "nbformat": 4,
 "nbformat_minor": 5
}
